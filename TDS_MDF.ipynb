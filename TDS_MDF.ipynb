{
 "cells": [
  {
   "cell_type": "markdown",
   "metadata": {},
   "source": [
    "<table style=\"border: 1;\" cellpadding=\"0\" cellspacing=\"0\">\n",
    "<tr style=\"border: 0;\">\n",
    "<td style=\"border: 0;\"><img src=\"files/TDS.png\"> </td>\n",
    "<td style=\"border: 0; text-align: center; font-size: 36px; padding: 0 50px\">Le Machine Learning par la pratique</td>\n",
    "<td style=\"border: 0;\"><img = src=\"files/MDF2.png\"></td>\n",
    "</tr>\n",
    "</table>\n",
    "\n",
    "\n"
   ]
  },
  {
   "cell_type": "code",
   "execution_count": null,
   "metadata": {
    "collapsed": true
   },
   "outputs": [],
   "source": [
    "import pandas as pd\n",
    "import numpy as np\n",
    "from sklearn.preprocessing import LabelEncoder\n",
    "from sklearn.model_selection import KFold\n",
    "from sklearn.ensemble import ExtraTreesRegressor, RandomForestRegressor, GradientBoostingRegressor\n",
    "import sklearn.model_selection as ms\n",
    "import matplotlib.pyplot as plt\n",
    "import seaborn as sns\n",
    "import os\n",
    "import re\n",
    "import datetime\n",
    "import sys\n",
    "%matplotlib inline"
   ]
  },
  {
   "cell_type": "code",
   "execution_count": null,
   "metadata": {
    "collapsed": true
   },
   "outputs": [],
   "source": [
    "ROOT_DIR = os.getcwd()\n",
    "DATA ='data_challenge'\n",
    "DATA_DIR = os.path.join(ROOT_DIR, DATA)\n",
    "TRAIN=\"train\"\n",
    "TEST=\"test\"\n",
    "SOURCE=\"source\"\n",
    "TARGET=\"prix\""
   ]
  },
  {
   "cell_type": "code",
   "execution_count": null,
   "metadata": {
    "collapsed": true
   },
   "outputs": [],
   "source": [
    "def displayUniqueCount(series):\n",
    "    data = np.unique(series, return_counts=True)\n",
    "    df = pd.DataFrame(\n",
    "        data = {'Valeur':data[0], 'Nombre':data[1]},\n",
    "        columns = ['Valeur', 'Nombre'])\n",
    "    df.sort_values(by =\"Nombre\", ascending=False, inplace=True)\n",
    "    return df"
   ]
  },
  {
   "cell_type": "markdown",
   "metadata": {},
   "source": [
    "<table style=\"border: 1;\" cellpadding=\"0\" cellspacing=\"0\">\n",
    "<tr style=\"border: 0;\">\n",
    "<td style=\"border: 0;\"><img src=\"files/TDS.png\"> </td>\n",
    "<td style=\"border: 0; text-align: center; font-size: 36px; padding: 0 240px\">Les données</td>\n",
    "<td style=\"border: 0;\"><img = src=\"files/MDF2.png\"></td>\n",
    "</tr>\n",
    "</table>\n",
    "\n"
   ]
  },
  {
   "cell_type": "markdown",
   "metadata": {},
   "source": [
    "## Import des données\n"
   ]
  },
  {
   "cell_type": "code",
   "execution_count": null,
   "metadata": {
    "collapsed": false
   },
   "outputs": [],
   "source": [
    "train = pd.read_csv(os.path.join(DATA_DIR, 'boites_medicaments_train.csv'),\n",
    "                    encoding='utf-8',\n",
    "                    sep=';')\n",
    "\n",
    "test = pd.read_csv(os.path.join(DATA_DIR, 'boites_medicaments_test.csv'),\n",
    "                   encoding='utf-8', \n",
    "                   sep=';')\n",
    "\n",
    "train[SOURCE] = TRAIN\n",
    "test[SOURCE] = TEST\n",
    "BIG = pd.concat([train, test], axis=0)\n",
    "\n",
    "print \"TRAIN\", train.shape\n",
    "print \"TEST \", test.shape\n",
    "print \"BIG \", BIG.shape"
   ]
  },
  {
   "cell_type": "markdown",
   "metadata": {},
   "source": [
    "## Affichage des données\n"
   ]
  },
  {
   "cell_type": "code",
   "execution_count": null,
   "metadata": {
    "collapsed": false
   },
   "outputs": [],
   "source": [
    "pd.set_option(\"display.max_columns\", 43) # permet de voir toutes les colonnes\n",
    "BIG.head(4)"
   ]
  },
  {
   "cell_type": "markdown",
   "metadata": {},
   "source": [
    "<table style=\"border: 1;\" cellpadding=\"0\" cellspacing=\"0\">\n",
    "<tr style=\"border: 0;\">\n",
    "<td style=\"border: 0;\"><img src=\"files/TDS.png\"> </td>\n",
    "<td style=\"border: 0; text-align: center; font-size: 36px; padding: 0 150px\">Les données numériques</td>\n",
    "<td style=\"border: 0;\"><img = src=\"files/MDF2.png\"></td>\n",
    "</tr>\n",
    "</table>"
   ]
  },
  {
   "cell_type": "markdown",
   "metadata": {},
   "source": [
    "## Les libellés : description du contenu de la boite de médicaments\n"
   ]
  },
  {
   "cell_type": "code",
   "execution_count": null,
   "metadata": {
    "collapsed": false
   },
   "outputs": [],
   "source": [
    "print train['libelle'][0]"
   ]
  },
  {
   "cell_type": "markdown",
   "metadata": {},
   "source": [
    "Extraction des libéllés"
   ]
  },
  {
   "cell_type": "code",
   "execution_count": null,
   "metadata": {
    "collapsed": false
   },
   "outputs": [],
   "source": [
    "train[['libelle','libelle_plaquette','libelle_ampoule','libelle_flacon','libelle_tube',\n",
    "       'libelle_stylo','libelle_seringue','libelle_pilulier','libelle_sachet',\n",
    "       'libelle_comprime','libelle_gelule','libelle_film','libelle_poche','libelle_capsule']].head(1)"
   ]
  },
  {
   "cell_type": "markdown",
   "metadata": {},
   "source": [
    "Extraction du nombre"
   ]
  },
  {
   "cell_type": "code",
   "execution_count": null,
   "metadata": {
    "collapsed": false
   },
   "outputs": [],
   "source": [
    "train[['nb_plaquette','nb_ampoule','nb_flacon','nb_tube','nb_stylo','nb_seringue','nb_pilulier','nb_sachet',\n",
    "       'nb_comprime','nb_gelule','nb_film','nb_poche','nb_capsule','nb_ml']].head(1)"
   ]
  },
  {
   "cell_type": "markdown",
   "metadata": {},
   "source": [
    "## Année de la déclaration de commercialisation de la boîte de médicament"
   ]
  },
  {
   "cell_type": "code",
   "execution_count": null,
   "metadata": {
    "collapsed": false
   },
   "outputs": [],
   "source": [
    "plt.figure(figsize=(18, 6))\n",
    "sns.distplot(BIG['date declar annee'], color='green', kde=False) #kde = Kernel Density"
   ]
  },
  {
   "cell_type": "markdown",
   "metadata": {},
   "source": [
    "## Année d’Autorisation de Mise sur le Marché du médicament "
   ]
  },
  {
   "cell_type": "code",
   "execution_count": null,
   "metadata": {
    "collapsed": false
   },
   "outputs": [],
   "source": [
    "plt.figure(figsize=(18, 6))\n",
    "sns.distplot(BIG['date amm annee'], color='green', kde=False)"
   ]
  },
  {
   "cell_type": "markdown",
   "metadata": {},
   "source": [
    "<table style=\"border: 1;\" cellpadding=\"0\" cellspacing=\"0\">\n",
    "<tr style=\"border: 0;\">\n",
    "<td style=\"border: 0;\"><img src=\"files/TDS.png\"> </td>\n",
    "<td style=\"border: 0; text-align: center; font-size: 36px; padding: 0 130px\">Les données catégorielles</td>\n",
    "<td style=\"border: 0;\"><img = src=\"files/MDF2.png\"></td>\n",
    "</tr>\n",
    "</table>\n",
    "\n",
    "\n"
   ]
  },
  {
   "cell_type": "markdown",
   "metadata": {},
   "source": [
    "## Statut administratif de la boite de médicament"
   ]
  },
  {
   "cell_type": "code",
   "execution_count": null,
   "metadata": {
    "collapsed": false
   },
   "outputs": [],
   "source": [
    "displayUniqueCount(BIG['statut admin'])"
   ]
  },
  {
   "cell_type": "markdown",
   "metadata": {},
   "source": [
    "## Etat de commercialisation de la boîte de médicament tel que déclaré par le titulaire de l'AMM"
   ]
  },
  {
   "cell_type": "code",
   "execution_count": null,
   "metadata": {
    "collapsed": false
   },
   "outputs": [],
   "source": [
    "pd.set_option(\"display.max_colwidth\", 100)\n",
    "displayUniqueCount(BIG['etat commerc'])"
   ]
  },
  {
   "cell_type": "markdown",
   "metadata": {},
   "source": [
    "## Agrément aux collectivités"
   ]
  },
  {
   "cell_type": "code",
   "execution_count": null,
   "metadata": {
    "collapsed": false
   },
   "outputs": [],
   "source": [
    "displayUniqueCount(BIG['agrement col'])"
   ]
  },
  {
   "cell_type": "markdown",
   "metadata": {},
   "source": [
    "## Statut administratif de l’autorisation de mise sur le marché (AMM)"
   ]
  },
  {
   "cell_type": "code",
   "execution_count": null,
   "metadata": {
    "collapsed": false
   },
   "outputs": [],
   "source": [
    "displayUniqueCount(BIG['statut admin'])"
   ]
  },
  {
   "cell_type": "markdown",
   "metadata": {},
   "source": [
    "## Type de procédure d'autorisation de mise sur le marché (AMM) (Nationale, décentralisée, reconnaissance mutuelle, ...)"
   ]
  },
  {
   "cell_type": "code",
   "execution_count": null,
   "metadata": {
    "collapsed": false
   },
   "outputs": [],
   "source": [
    "displayUniqueCount(BIG['type proc'])"
   ]
  },
  {
   "cell_type": "markdown",
   "metadata": {},
   "source": [
    "## Taux de remboursement"
   ]
  },
  {
   "cell_type": "code",
   "execution_count": null,
   "metadata": {
    "collapsed": false
   },
   "outputs": [],
   "source": [
    "displayUniqueCount(BIG['tx rembours'])"
   ]
  },
  {
   "cell_type": "markdown",
   "metadata": {},
   "source": [
    "<table style=\"border: 1;\" cellpadding=\"0\" cellspacing=\"0\">\n",
    "<tr style=\"border: 0;\">\n",
    "<td style=\"border: 0;\"><img src=\"files/TDS.png\"> </td>\n",
    "<td style=\"border: 0; text-align: center; font-size: 36px; padding: 0 170px\">Les données textuelles</td>\n",
    "<td style=\"border: 0;\"><img = src=\"files/MDF2.png\"></td>\n",
    "</tr>\n",
    "</table>"
   ]
  },
  {
   "cell_type": "markdown",
   "metadata": {},
   "source": [
    "## Forme pharmaceutique"
   ]
  },
  {
   "cell_type": "code",
   "execution_count": null,
   "metadata": {
    "collapsed": false,
    "scrolled": true
   },
   "outputs": [],
   "source": [
    "displayUniqueCount(BIG['forme pharma']).head(10)"
   ]
  },
  {
   "cell_type": "markdown",
   "metadata": {},
   "source": [
    "## Laboratoire titulaire du médicament.\n",
    "S'il y a plusieurs titulaires, ils sont séparés par des « , »"
   ]
  },
  {
   "cell_type": "code",
   "execution_count": null,
   "metadata": {
    "collapsed": false
   },
   "outputs": [],
   "source": [
    "displayUniqueCount(BIG['titulaires']).head(15)"
   ]
  },
  {
   "cell_type": "markdown",
   "metadata": {},
   "source": [
    "## Substances présentes dans le médicament.\n",
    "S'il y en a plusieurs, elles sont séparées par des « , » "
   ]
  },
  {
   "cell_type": "code",
   "execution_count": null,
   "metadata": {
    "collapsed": false
   },
   "outputs": [],
   "source": [
    "displayUniqueCount(BIG['substances'])[15:20]"
   ]
  },
  {
   "cell_type": "markdown",
   "metadata": {},
   "source": [
    "## Voies d'administration\n",
    "(avec un séparateur « , » entre chaque valeur quand il y en a plusieurs : orale, ophtalmique, intramusculaire, ...)"
   ]
  },
  {
   "cell_type": "code",
   "execution_count": null,
   "metadata": {
    "collapsed": false
   },
   "outputs": [],
   "source": [
    "displayUniqueCount(BIG['voies admin']).head(8)"
   ]
  },
  {
   "cell_type": "markdown",
   "metadata": {},
   "source": [
    "<table style=\"border: 1;\" cellpadding=\"0\" cellspacing=\"0\">\n",
    "<tr style=\"border: 0;\">\n",
    "<td style=\"border: 0;\"><img src=\"files/TDS.png\"> </td>\n",
    "<td style=\"border: 0; text-align: center; font-size: 36px; padding: 0 15px\">Le Data Cleaning et le Feature Engineering</td>\n",
    "<td style=\"border: 0;\"><img = src=\"files/MDF2.png\"></td>\n",
    "</tr>\n",
    "</table>"
   ]
  },
  {
   "cell_type": "markdown",
   "metadata": {},
   "source": [
    "## Exemple DUMMY & ENCODE"
   ]
  },
  {
   "cell_type": "code",
   "execution_count": null,
   "metadata": {
    "collapsed": false
   },
   "outputs": [],
   "source": [
    "BASKET_DF = pd.DataFrame(\n",
    "    data = {'JOUEUR':[\"Tony PARKER\",\"Michael JORDAN\",\"Kobe BRYANT\", \"Michael JORDAN\"],\n",
    "            'NUMERO':[\"9\",\"23\",\"8\",\"45\"]},\n",
    "    columns=['JOUEUR', 'NUMERO'])\n",
    "\n",
    "BASKET_DF\n",
    "\n",
    "BASKET_DF"
   ]
  },
  {
   "cell_type": "markdown",
   "metadata": {},
   "source": [
    "## Encodage des features catégorielles\n",
    "\n",
    "Les algorithmes de machine learning s'attendent à avoir en entrée des nombres, et non pas des chaînes de caractères. C'est pourquoi nous transformons les features catégorielles en nombres, à l'aide de LabelEncoder()"
   ]
  },
  {
   "cell_type": "code",
   "execution_count": null,
   "metadata": {
    "collapsed": false
   },
   "outputs": [],
   "source": [
    "#Feature to encode\n",
    "encodeToCat =\"JOUEUR\"\n",
    "\n",
    "print \"ENCODAGE de la variable \" + encodeToCat\n",
    "\n",
    "le = LabelEncoder()\n",
    "\n",
    "le.fit(BASKET_DF[encodeToCat])\n",
    "\n",
    "BASKET_DF.loc[:,encodeToCat+\" ENCODED\"] = le.transform(BASKET_DF[encodeToCat])\n",
    "\n",
    "BASKET_DF"
   ]
  },
  {
   "cell_type": "markdown",
   "metadata": {},
   "source": [
    "## Dummification des features catégorielles"
   ]
  },
  {
   "cell_type": "code",
   "execution_count": null,
   "metadata": {
    "collapsed": false
   },
   "outputs": [],
   "source": [
    "#Feature to dummy\n",
    "\n",
    "featToDummy = \"JOUEUR\"\n",
    "\n",
    "print \"DUMMIFICATION de la variable \" + encodeToCat\n",
    "\n",
    "dums = pd.get_dummies(BASKET_DF[featToDummy]).astype(int)\n",
    "\n",
    "BASKET_DF = pd.concat([BASKET_DF, dums], axis=1)\n",
    "\n",
    "BASKET_DF"
   ]
  },
  {
   "cell_type": "markdown",
   "metadata": {},
   "source": [
    "## Data Transformation : Prix"
   ]
  },
  {
   "cell_type": "code",
   "execution_count": null,
   "metadata": {
    "collapsed": false
   },
   "outputs": [],
   "source": [
    "plt.figure(figsize=(18, 6))\n",
    "sns.distplot(train['prix'], color='green', kde=False) #kde = kernel denisty"
   ]
  },
  {
   "cell_type": "code",
   "execution_count": null,
   "metadata": {
    "collapsed": false
   },
   "outputs": [],
   "source": [
    "# On prend le log des prix car sa distribution est plus proche d'une gaussienne\n",
    "plt.figure(figsize=(18, 6))\n",
    "train['logprix'] = train['prix'].apply(np.log)\n",
    "sns.distplot(train['logprix'], color='green', kde=False)"
   ]
  },
  {
   "cell_type": "markdown",
   "metadata": {},
   "source": [
    "## Data Transformation : Taux remboursement"
   ]
  },
  {
   "cell_type": "code",
   "execution_count": null,
   "metadata": {
    "collapsed": false
   },
   "outputs": [],
   "source": [
    "# Influence sur les prix de la feature \"tx rembours\"\n",
    "sns.violinplot(y=\"logprix\", x=\"tx rembours\", data=train)"
   ]
  },
  {
   "cell_type": "code",
   "execution_count": null,
   "metadata": {
    "collapsed": false
   },
   "outputs": [],
   "source": [
    "txrembours = [int(x.replace(\"%\", \"\")) for x in BIG[\"tx rembours\"]]\n",
    "    \n",
    "SAMPLE = pd.DataFrame({\"tx rembours\":BIG[\"tx rembours\"], \"tx rembours transform\":txrembours})\n",
    "\n",
    "SAMPLE[37:43]"
   ]
  },
  {
   "cell_type": "markdown",
   "metadata": {},
   "source": [
    "## Data Transformation : Voies Admin\n",
    "Les valeurs sont séparées par des \",\""
   ]
  },
  {
   "cell_type": "code",
   "execution_count": null,
   "metadata": {
    "collapsed": false
   },
   "outputs": [],
   "source": [
    "BASKET_DF = pd.DataFrame(\n",
    "    data = {'JOUEUR':[\"Tony PARKER\",\"Michael JORDAN\",\"Kobe BRYANT\"],\n",
    "            'CLUB':[\"INSEP, PSG, SAN ANTONIO SPURS\",\"CHICAGO BULLS, WASHINGTON WIZARDS\",\"LOS ANGELES LAKERS\"]},\n",
    "    columns=['JOUEUR', 'CLUB'])\n",
    "\n",
    "BASKET_DF"
   ]
  },
  {
   "cell_type": "code",
   "execution_count": null,
   "metadata": {
    "collapsed": false
   },
   "outputs": [],
   "source": [
    "\n",
    "distinctCategs = (BASKET_DF['CLUB']\n",
    "                  .apply(lambda col_value : col_value.split(','))\n",
    "                  .apply(pd.Series)\n",
    "                  .unstack()\n",
    "                  .dropna()\n",
    "                  .unique())\n",
    "\n",
    "for distinctCateg in distinctCategs:\n",
    "    BASKET_DF[distinctCateg] = BASKET_DF['CLUB'].apply(lambda x : 1 if distinctCateg in x else 0)\n",
    "    \n",
    "BASKET_DF"
   ]
  },
  {
   "cell_type": "markdown",
   "metadata": {},
   "source": [
    "<table style=\"border: 1;\" cellpadding=\"0\" cellspacing=\"0\">\n",
    "<tr style=\"border: 0;\">\n",
    "<td style=\"border: 0;\"><img src=\"files/TDS.png\"> </td>\n",
    "<td style=\"border: 0; text-align: center; font-size: 36px; padding: 0 15px\">Tout commence ici !!! Ready ???</td>\n",
    "<td style=\"border: 0;\"><img = src=\"files/MDF2.png\"></td>\n",
    "</tr>\n",
    "</table>"
   ]
  },
  {
   "cell_type": "markdown",
   "metadata": {},
   "source": [
    "## Types de features"
   ]
  },
  {
   "cell_type": "code",
   "execution_count": null,
   "metadata": {
    "collapsed": true
   },
   "outputs": [],
   "source": [
    "# features numériques\n",
    "feat_num = ['libelle_plaquette', 'libelle_ampoule', 'libelle_flacon', \n",
    "            'libelle_tube', 'libelle_stylo', 'libelle_seringue',\n",
    "            'libelle_pilulier', 'libelle_sachet', 'libelle_comprime', \n",
    "            'libelle_gelule', 'libelle_film', 'libelle_poche',\n",
    "            'libelle_capsule'] + ['nb_plaquette', 'nb_ampoule', \n",
    "            'nb_flacon', 'nb_tube', 'nb_stylo', 'nb_seringue',\n",
    "            'nb_pilulier', 'nb_sachet', 'nb_comprime', 'nb_gelule', \n",
    "            'nb_film', 'nb_poche', 'nb_capsule', 'nb_ml']\n",
    "\n",
    "# features date\n",
    "feat_dates = ['date declar annee', 'date amm annee']\n",
    "\n",
    "# features catégorielles\n",
    "feat_cat = ['statut', 'etat commerc', 'agrement col', 'tx rembours',\n",
    "          'voies admin', 'statut admin', 'type proc']\n",
    "\n",
    "# features texte\n",
    "feat_text = ['libelle', 'titulaires', 'substances', 'forme pharma']"
   ]
  },
  {
   "cell_type": "markdown",
   "metadata": {},
   "source": [
    "## Configuration des variables à transformer, encoder, dummifier, supprimer"
   ]
  },
  {
   "cell_type": "code",
   "execution_count": null,
   "metadata": {
    "collapsed": false
   },
   "outputs": [],
   "source": [
    "featToDel = ['libelle', 'id']\n",
    "featToDummy = []\n",
    "featToDummy.extend(feat_cat)\n",
    "featToDummy.extend(feat_text)\n",
    "featToDummy.remove('tx rembours')\n",
    "featToDummy.remove(\"voies admin\")\n",
    "featToDummy.remove(\"libelle\")\n",
    "featToEncode = []\n",
    "featToTransform = [\"convertTx\", \"log\", \"convertVoiesAdmin\"]\n",
    "\n",
    "config = {\"featToDel\":featToDel,\n",
    "          \"featToDummy\":featToDummy,\n",
    "          \"featToEncode\":featToEncode,\n",
    "          \"featToTransform\":featToTransform}\n",
    "\n",
    "print \"DELETE    :  \", featToDel\n",
    "print \"DUMMY     :  \", featToDummy\n",
    "print \"ENCODE    :  \", featToEncode\n",
    "print \"TRANSFORM :  \", featToTransform"
   ]
  },
  {
   "cell_type": "markdown",
   "metadata": {},
   "source": [
    "## La méthode Parse"
   ]
  },
  {
   "cell_type": "code",
   "execution_count": null,
   "metadata": {
    "collapsed": true
   },
   "outputs": [],
   "source": [
    "def parse(X, config, silent=False) :\n",
    "    start = datetime.datetime.today().now()\n",
    "    if not silent:\n",
    "        print '__________________________________________ PARSE __________________________________________'\n",
    "        print '--> ', start.strftime('%d-%m-%Y : %H:%M')\n",
    "        print 'BEFORE : ', X.shape\n",
    "\n",
    "    # Data Transformation\n",
    "    if \"convertVoiesAdmin\" in config[\"featToTransform\"]:\n",
    "        distinctCategs = (X['voies admin']\n",
    "                  .apply(lambda col_value : col_value.split(','))\n",
    "                  .apply(pd.Series)\n",
    "                  .unstack()\n",
    "                  .dropna()\n",
    "                  .unique())\n",
    "\n",
    "        for distinctCateg in distinctCategs:\n",
    "            X[distinctCateg] = X['voies admin'].apply(lambda x : 1 if distinctCateg in x else 0)\n",
    "        \n",
    "        X.drop(\"voies admin\", axis =1, inplace=True)\n",
    "        \n",
    "    if \"convertTx\" in config[\"featToTransform\"]:\n",
    "        print \"convert tx rembours\"\n",
    "        X[\"tx rembours\"] = [int(x.replace(\"%\", \"\")) for x in X[\"tx rembours\"]]\n",
    "    \n",
    "    # Remove target\n",
    "    y_train = X.loc[X.source == 'train',TARGET]\n",
    "    \n",
    "    if \"log\" in config[\"featToTransform\"]:\n",
    "        y_train = y_train.apply(np.log)\n",
    "    \n",
    "    del X[TARGET]\n",
    "    \n",
    "    print \"---Feature to encode \"\n",
    "    #Feature to encode\n",
    "    featToEncode = config[\"featToEncode\"]\n",
    "    for encodeToCat in featToEncode:\n",
    "        print \"encode \" + encodeToCat\n",
    "        le = LabelEncoder()\n",
    "        le.fit(X[encodeToCat])\n",
    "        X.loc[:,encodeToCat] = le.transform(X[encodeToCat])\n",
    "    \n",
    "    print \"---Feature to dummy \"\n",
    "    #Feature to dummy\n",
    "    featToDummy = config[\"featToDummy\"]\n",
    "    if featToDummy:\n",
    "        dums = pd.get_dummies(X[featToDummy]).astype(int)\n",
    "        X = pd.concat([X, dums], axis=1)\n",
    "        X.drop(featToDummy, axis =1, inplace=True)\n",
    "    \n",
    "    print \"---Feature to delete \"\n",
    "    #Feature to delete\n",
    "    featToDel = config[\"featToDel\"]\n",
    "    X.drop(featToDel, axis =1, inplace=True)\n",
    "     \n",
    "    X_train = X[X[SOURCE] == TRAIN]\n",
    "    X_test = X[X[SOURCE] == TEST]    \n",
    "    del X_test[SOURCE]\n",
    "    del X_train[SOURCE]\n",
    "    \n",
    "    \n",
    "    if not silent:\n",
    "        print '%s Elapsed time :%d s' % (datetime.datetime.today().now().strftime('--> %d-%m-%Y : %H:%M'), \n",
    "        (datetime.datetime.today().now().now() - start).total_seconds())\n",
    "        print 'AFTER TRAIN :', X_train.shape\n",
    "        print 'AFTER TEST :', X_test.shape\n",
    "        sys.stdout.flush()\n",
    "    \n",
    "    return X_train, X_test, y_train"
   ]
  },
  {
   "cell_type": "code",
   "execution_count": null,
   "metadata": {
    "collapsed": false
   },
   "outputs": [],
   "source": [
    "X_train, X_test, y_train = parse(BIG.copy(), config)"
   ]
  },
  {
   "cell_type": "markdown",
   "metadata": {},
   "source": [
    "<table style=\"border: 1;\" cellpadding=\"0\" cellspacing=\"0\">\n",
    "<tr style=\"border: 0;\">\n",
    "<td style=\"border: 0;\"><img src=\"files/TDS.png\"> </td>\n",
    "<td style=\"border: 0; text-align: center; font-size: 36px; padding: 0 120px\">Cross Validation & Modèles</td>\n",
    "<td style=\"border: 0;\"><img = src=\"files/MDF2.png\"></td>\n",
    "</tr>\n",
    "</table>"
   ]
  },
  {
   "cell_type": "markdown",
   "metadata": {},
   "source": [
    "## Métrique MAPE\n",
    "\n",
    "La métrique MAPE n'étant pas disponible dans scikit-learn, nous la codons"
   ]
  },
  {
   "cell_type": "code",
   "execution_count": null,
   "metadata": {
    "collapsed": true
   },
   "outputs": [],
   "source": [
    "# Mean Absolute Percentage Error\n",
    "def mape_error(y_true, y_pred): \n",
    "    return np.mean(np.abs((y_true - y_pred) / y_true)) * 100"
   ]
  },
  {
   "cell_type": "markdown",
   "metadata": {},
   "source": [
    "## Cross Validation"
   ]
  },
  {
   "cell_type": "code",
   "execution_count": null,
   "metadata": {
    "collapsed": true
   },
   "outputs": [],
   "source": [
    "def crossVal (X, y, clf, scorer, n_splits=5, random_state =0, shuffle = False) :\n",
    "    \n",
    "    folds= ms.KFold(n_splits=n_splits, shuffle= shuffle)\n",
    "    \n",
    "    # When shuffle=True, pseudo-random number generator state used for shuffling.\n",
    "    # If None, use default numpy RNG for shuffling\n",
    "    \n",
    "    scoreList = []\n",
    "    i = 0\n",
    "    for trainIdx, testIdx in folds.split(X):\n",
    "        i +=1 \n",
    "        XTrainFolds = None; XTestFolds = None; yTrainFolds= None; yTestFolds= None\n",
    "        yPred = []\n",
    "        XTrainFolds, XTestFolds = X.iloc[trainIdx], X.iloc[testIdx]\n",
    "        yTrainFolds, yTestFolds = y.iloc[trainIdx], y.iloc[testIdx]\n",
    "        clf = clf.fit(XTrainFolds, yTrainFolds)\n",
    "        res = clf.predict(XTestFolds)\n",
    "        \n",
    "        if \"log\" in config[\"featToTransform\"]:\n",
    "            score = scorer(np.exp(yTestFolds), np.exp(res))\n",
    "        else:\n",
    "            score = scorer(yTestFolds, res)\n",
    "        \n",
    "        scoreList.append(score)\n",
    "        print \"*** MAPE Error : \" + str(i) + \" - \" + str(score)\n",
    "        sys.stdout.flush()\n",
    "        \n",
    "    print \"----------------\"\n",
    "    print \"  - Mean :\" + str(np.mean(scoreList))\n",
    "    print \"  - Ecart Max-Min :\" + str(np.max(scoreList) - np.min(scoreList))"
   ]
  },
  {
   "cell_type": "code",
   "execution_count": null,
   "metadata": {
    "collapsed": false
   },
   "outputs": [],
   "source": [
    "clf = ExtraTreesRegressor(n_estimators=11, max_features= 'auto', criterion=\"mse\", max_depth=None, min_samples_split=5, n_jobs=-1)\n",
    "\n",
    "#clf = RandomForestRegressor(n_estimators = 50, n_jobs = -1, verbose = 0)\n",
    "\n",
    "#clf = GradientBoostingRegressor(verbose = 1, max_features='auto')"
   ]
  },
  {
   "cell_type": "code",
   "execution_count": null,
   "metadata": {
    "collapsed": false
   },
   "outputs": [],
   "source": [
    "crossVal(X_train, y_train, clf, mape_error)"
   ]
  },
  {
   "cell_type": "markdown",
   "metadata": {},
   "source": [
    "<table style=\"border: 1;\" cellpadding=\"0\" cellspacing=\"0\">\n",
    "<tr style=\"border: 0;\">\n",
    "<td style=\"border: 0;\"><img src=\"files/TDS.png\"> </td>\n",
    "<td style=\"border: 0; text-align: center; font-size: 36px; padding: 0 110px\">Résultats finaux & Soumission</td>\n",
    "<td style=\"border: 0;\"><img = src=\"files/MDF2.png\"></td>\n",
    "</tr>\n",
    "</table>\n"
   ]
  },
  {
   "cell_type": "code",
   "execution_count": null,
   "metadata": {
    "collapsed": false
   },
   "outputs": [],
   "source": [
    "# On entraine de nouveau le modèle, cette fois sur l'intégralité des données\n",
    "clf.fit(X_train, y_train)\n",
    "\n",
    "predictions = clf.predict(X_test)\n",
    "if \"log\" in config[\"featToTransform\"]:\n",
    "    predictions = np.exp(predictions)"
   ]
  },
  {
   "cell_type": "code",
   "execution_count": null,
   "metadata": {
    "collapsed": true
   },
   "outputs": [],
   "source": [
    "pd.DataFrame(predictions, index=test['id']).to_csv('soumission.csv',  \n",
    "                          header=['prix'],\n",
    "                          sep = ';')"
   ]
  }
 ],
 "metadata": {
  "kernelspec": {
   "display_name": "Python 2",
   "language": "python",
   "name": "python2"
  },
  "language_info": {
   "codemirror_mode": {
    "name": "ipython",
    "version": 2
   },
   "file_extension": ".py",
   "mimetype": "text/x-python",
   "name": "python",
   "nbconvert_exporter": "python",
   "pygments_lexer": "ipython2",
   "version": "2.7.12"
  }
 },
 "nbformat": 4,
 "nbformat_minor": 0
}
